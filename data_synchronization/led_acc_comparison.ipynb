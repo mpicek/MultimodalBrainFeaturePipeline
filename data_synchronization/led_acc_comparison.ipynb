{
 "cells": [
  {
   "cell_type": "code",
   "execution_count": 39,
   "metadata": {},
   "outputs": [
    {
     "name": "stdout",
     "output_type": "stream",
     "text": [
      "Total: 529\n",
      "Properly synchronized by LED: 268\n",
      "LED succes =  50.66 %\n",
      "Overall we have approx 46 hours of video\n"
     ]
    }
   ],
   "source": [
    "import pandas as pd\n",
    "import numpy as np\n",
    "\n",
    "# load a csv table\n",
    "led = pd.read_csv('/media/mpicek/T7/martin/data/log_sync_led.csv')\n",
    "acc = pd.read_csv('/media/mpicek/T7/martin/data/log_sync_acc.csv')\n",
    "acc = acc.drop_duplicates()\n",
    "led = led.drop_duplicates()\n",
    "\n",
    "# join the table based on mp4_name\n",
    "df = pd.merge(led, acc, on='mp4_name', how='inner', suffixes=('_led', '_acc'))\n",
    "total = df.shape[0]\n",
    "\n",
    "df = df.query('passed_quality_test == True')\n",
    "led_properly = df.shape[0]\n",
    "print('Total:', total)\n",
    "print('Properly synchronized by LED:', led_properly)\n",
    "print(\"LED succes = \", round(100*led_properly/total, 2), \"%\")\n",
    "print(f\"Overall we have approx\", int(np.sum(df[\"mp4_length_acc\"]) / 3600), \"hours of video\")"
   ]
  },
  {
   "cell_type": "code",
   "execution_count": 40,
   "metadata": {},
   "outputs": [],
   "source": [
    "# compute the lag difference and sort by it (absolute value)\n",
    "df['lag_diff'] = df['lag_led'] - df['lag_acc']\n",
    "df['lag_diff_time_ms'] = (1000/585) *(df['lag_led'] - df['lag_acc'])\n",
    "df['abs_lag_diff'] = np.abs(df['lag_diff'])\n",
    "df = df.sort_values('abs_lag_diff')"
   ]
  },
  {
   "cell_type": "code",
   "execution_count": 41,
   "metadata": {},
   "outputs": [
    {
     "name": "stdout",
     "output_type": "stream",
     "text": [
      "(253, 26)\n",
      "(253, 26)\n",
      "Comparable: 253\n",
      "Overall comparable: 46 hours of video\n"
     ]
    }
   ],
   "source": [
    "# get only those that were possible to compare\n",
    "df = df[df['sync_failed_led'] == 0]\n",
    "df = df[df['sync_failed_acc'] == 0]\n",
    "\n",
    "comparable = df.shape[0]\n",
    "print('Comparable:', comparable)\n",
    "print(f\"Overall comparable:\", int(np.sum(df[\"mp4_length_acc\"]) / 3600), \"hours of video\")"
   ]
  },
  {
   "cell_type": "code",
   "execution_count": 4,
   "metadata": {},
   "outputs": [
    {
     "name": "stdout",
     "output_type": "stream",
     "text": [
      "Properly synchronized by the accelerometer: 221\n",
      "Acc succes =  87.35 %\n"
     ]
    }
   ],
   "source": [
    "max_difference_ms = 150\n",
    "acc_properly_df = df.query(f'abs_lag_diff < {max_difference_ms}')\n",
    "acc_properly = acc_properly_df.shape[0]\n",
    "print('Properly synchronized by the accelerometer:', acc_properly)\n",
    "# print acc_succes with only two numbers behind the dot\n",
    "print(\"Acc succes = \", round(100*acc_properly/comparable, 2), \"%\")\n"
   ]
  },
  {
   "cell_type": "code",
   "execution_count": 5,
   "metadata": {},
   "outputs": [
    {
     "name": "stdout",
     "output_type": "stream",
     "text": [
      "Marked as successful by the accelerometer: 208\n"
     ]
    }
   ],
   "source": [
    "metric_threshold = 5\n",
    "marked_as_successful = df.query(f'additional_peaks_per_million_acc < {metric_threshold}')\n",
    "num_of_marked_as_successful = marked_as_successful.shape[0]\n",
    "print('Marked as successful by the accelerometer:', num_of_marked_as_successful)"
   ]
  },
  {
   "cell_type": "code",
   "execution_count": 6,
   "metadata": {},
   "outputs": [
    {
     "name": "stdout",
     "output_type": "stream",
     "text": [
      "TP: 205  ... so we include in our dataset  92.76 % of properly synchronized data\n",
      "FP: 3  ... so our dataset will consist of  1.44 % of incorrectly synchronized data (we want to minimize this)\n",
      "FN: 16  ... so we lost  7.24 % of properly synchronized (=good) data\n",
      "TN: 29  ... so we properly discarded  90.62 % of incorrectly synchronized data\n",
      "Overall, we use  82.21 % of all the (comparable) data.\n",
      "                              Actually proper sync  Actually incorrect sync\n",
      "Metric said \"correct sync\"                     205                        3\n",
      "Matric said \"incorrect sync\"                    16                       29\n"
     ]
    }
   ],
   "source": [
    "TP = df.query(f'additional_peaks_per_million_acc < {metric_threshold} and abs_lag_diff < {max_difference_ms}').shape[0]\n",
    "FP = num_of_marked_as_successful - TP   # df.query(f'additional_peaks_per_million_acc < {metric_threshold} and abs_lag_diff >= {max_difference_ms}')\n",
    "FN = acc_properly - TP                  # df.query(f'additional_peaks_per_million_acc >= {metric_threshold} and abs_lag_diff < {max_difference_ms}')\n",
    "TN = comparable - TP - FP - FN\n",
    "print('TP:', TP, \" ... so we include in our dataset \", round(100*TP/acc_properly, 2), \"% of properly synchronized data\")\n",
    "print('FP:', FP, \" ... so our dataset will consist of \", round(100*FP/(TP + FP), 2), \"% of incorrectly synchronized data (we want to minimize this)\")\n",
    "print('FN:', FN, \" ... so we lost \", round(100*FN/acc_properly, 2), \"% of properly synchronized (=good) data\")\n",
    "print('TN:', TN, \" ... so we properly discarded \", round(100*TN/(TN + FP), 2), \"% of incorrectly synchronized data\")\n",
    "\n",
    "print(\"Overall, we use \", round(100*(TP + FP)/comparable, 2), \"% of all the (comparable) data.\")\n",
    "# make a table from the TP, FP, FN, TN\n",
    "confusion_matrix = pd.DataFrame([[TP, FP], [FN, TN]], index=['Metric said \"correct sync\"', 'Matric said \"incorrect sync\"'], columns=['Actually proper sync', 'Actually incorrect sync'])\n",
    "print(confusion_matrix)"
   ]
  },
  {
   "cell_type": "markdown",
   "metadata": {},
   "source": [
    "## How bad are the False Positives?\n",
    "#### Will they destry our dataset a lot?"
   ]
  },
  {
   "cell_type": "code",
   "execution_count": 7,
   "metadata": {},
   "outputs": [
    {
     "data": {
      "text/html": [
       "<div>\n",
       "<style scoped>\n",
       "    .dataframe tbody tr th:only-of-type {\n",
       "        vertical-align: middle;\n",
       "    }\n",
       "\n",
       "    .dataframe tbody tr th {\n",
       "        vertical-align: top;\n",
       "    }\n",
       "\n",
       "    .dataframe thead th {\n",
       "        text-align: right;\n",
       "    }\n",
       "</style>\n",
       "<table border=\"1\" class=\"dataframe\">\n",
       "  <thead>\n",
       "    <tr style=\"text-align: right;\">\n",
       "      <th></th>\n",
       "      <th>abs_lag_diff</th>\n",
       "    </tr>\n",
       "  </thead>\n",
       "  <tbody>\n",
       "    <tr>\n",
       "      <th>220</th>\n",
       "      <td>152.0</td>\n",
       "    </tr>\n",
       "    <tr>\n",
       "      <th>422</th>\n",
       "      <td>158.0</td>\n",
       "    </tr>\n",
       "    <tr>\n",
       "      <th>203</th>\n",
       "      <td>159.0</td>\n",
       "    </tr>\n",
       "  </tbody>\n",
       "</table>\n",
       "</div>"
      ],
      "text/plain": [
       "     abs_lag_diff\n",
       "220         152.0\n",
       "422         158.0\n",
       "203         159.0"
      ]
     },
     "execution_count": 7,
     "metadata": {},
     "output_type": "execute_result"
    }
   ],
   "source": [
    "df.query(f'additional_peaks_per_million_acc < {metric_threshold} and abs_lag_diff >= {max_difference_ms}')[['abs_lag_diff']]"
   ]
  },
  {
   "cell_type": "markdown",
   "metadata": {},
   "source": [
    "## Why are some videos hard to sync with the accelerometer?"
   ]
  },
  {
   "cell_type": "code",
   "execution_count": 8,
   "metadata": {},
   "outputs": [
    {
     "name": "stdout",
     "output_type": "stream",
     "text": [
      "Average length of incorrectly synchronized videos: 4.48 minutes\n",
      "Average length of correctly synchronized videos: 11.98 minutes\n",
      "Variance of length of incorrectly synchronized videos: 12.93 minutes\n",
      "Variance of length of correctly synchronized videos: 93.96 minutes\n"
     ]
    },
    {
     "data": {
      "image/png": "[encoded data removed]",
      "text/plain": [
       "<Figure size 640x480 with 1 Axes>"
      ]
     },
     "metadata": {},
     "output_type": "display_data"
    },
    {
     "data": {
      "image/png": "[encoded data removed]",
      "text/plain": [
       "<Figure size 640x480 with 1 Axes>"
      ]
     },
     "metadata": {},
     "output_type": "display_data"
    }
   ],
   "source": [
    "incorrect = df.query(f'abs_lag_diff >= {max_difference_ms}')\n",
    "incorrect_length = incorrect['mp4_length_acc'].mean() / 60\n",
    "correct_length = acc_properly_df['mp4_length_acc'].mean() / 60\n",
    "print('Average length of incorrectly synchronized videos:', round(incorrect_length, 2), 'minutes')\n",
    "print('Average length of correctly synchronized videos:', round(correct_length, 2), 'minutes')\n",
    "incorrect_var = (incorrect['mp4_length_acc'] / 60).var()\n",
    "correct_var = (acc_properly_df['mp4_length_acc'] / 60).var()\n",
    "print('Variance of length of incorrectly synchronized videos:', round(incorrect_var, 2), 'minutes')\n",
    "print('Variance of length of correctly synchronized videos:', round(correct_var, 2), 'minutes')\n",
    "# plot that on graph\n",
    "import matplotlib.pyplot as plt\n",
    "fig, ax = plt.subplots()\n",
    "ax.hist(incorrect['mp4_length_acc']/60, bins=30, alpha=0.5, label='Incorrectly synchronized')\n",
    "ax.hist(acc_properly_df['mp4_length_acc']/60, bins=30, alpha=0.5, label='Correctly synchronized')\n",
    "ax.set_xlabel('Length of the video [minutes]')\n",
    "ax.set_ylabel('Number of videos')\n",
    "ax.legend()\n",
    "plt.show()\n",
    "\n",
    "# plot that with boxplot\n",
    "fig, ax = plt.subplots()\n",
    "ax.boxplot([incorrect['mp4_length_acc']/60, acc_properly_df['mp4_length_acc']/60], labels=['Incorrectly synchronized', 'Correctly synchronized'])\n",
    "ax.set_ylabel('Length of the video [minutes]')\n",
    "plt.show()\n",
    "\n"
   ]
  }
 ],
 "metadata": {
  "kernelspec": {
   "display_name": "mpicek3.11",
   "language": "python",
   "name": "python3"
  },
  "language_info": {
   "codemirror_mode": {
    "name": "ipython",
    "version": 3
   },
   "file_extension": ".py",
   "mimetype": "text/x-python",
   "name": "python",
   "nbconvert_exporter": "python",
   "pygments_lexer": "ipython3",
   "version": "3.11.7"
  }
 },
 "nbformat": 4,
 "nbformat_minor": 2
}
